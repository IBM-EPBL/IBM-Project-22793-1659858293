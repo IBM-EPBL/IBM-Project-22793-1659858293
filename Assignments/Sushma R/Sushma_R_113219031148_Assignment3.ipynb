{
  "nbformat": 4,
  "nbformat_minor": 0,
  "metadata": {
    "colab": {
      "provenance": [],
      "collapsed_sections": []
    },
    "kernelspec": {
      "name": "python3",
      "display_name": "Python 3"
    },
    "language_info": {
      "name": "python"
    }
  },
  "cells": [
    {
      "cell_type": "markdown",
      "source": [
        "**Assignment -3**\n",
        "                      Python Programming\n",
        "\n",
        "Assignment Date: 7 October 2022\n",
        "\n",
        "Student Name: Sushma.R\n",
        "\n",
        "Student Roll Number: 113219031148\n",
        "\n",
        "Maximum Marks: 2 Marks\n"
      ],
      "metadata": {
        "id": "spMQpJq2xuTg"
      }
    },
    {
      "cell_type": "markdown",
      "source": [
        "Exercises\n",
        "Answer the questions or complete the tasks outlined in bold below, use the specific method described if applicable.\n",
        "\n",
        "What is 7 to the power of 4?\n"
      ],
      "metadata": {
        "id": "T3i9Zqexx2NO"
      }
    },
    {
      "cell_type": "code",
      "execution_count": 68,
      "metadata": {
        "colab": {
          "base_uri": "https://localhost:8080/"
        },
        "id": "xxx85QkbtzQn",
        "outputId": "d1193f94-c710-4bd4-da06-51881c24b7f6"
      },
      "outputs": [
        {
          "output_type": "execute_result",
          "data": {
            "text/plain": [
              "2401"
            ]
          },
          "metadata": {},
          "execution_count": 68
        }
      ],
      "source": [
        "7**4\n"
      ]
    },
    {
      "cell_type": "markdown",
      "source": [],
      "metadata": {
        "id": "s8UnRoo3xMld"
      }
    },
    {
      "cell_type": "markdown",
      "source": [
        "Split this string:\n",
        "\n",
        "s = \"Hi there Sam!\"\n",
        "into a list."
      ],
      "metadata": {
        "id": "rxALuDJ3ujo9"
      }
    },
    {
      "cell_type": "code",
      "source": [
        "s = \"Hi there Sam!\"\n",
        "s.split()"
      ],
      "metadata": {
        "colab": {
          "base_uri": "https://localhost:8080/"
        },
        "id": "tBX4yZAluGfO",
        "outputId": "b2cb61eb-92a3-414c-dca5-28d6ad4deaee"
      },
      "execution_count": 69,
      "outputs": [
        {
          "output_type": "execute_result",
          "data": {
            "text/plain": [
              "['Hi', 'there', 'Sam!']"
            ]
          },
          "metadata": {},
          "execution_count": 69
        }
      ]
    },
    {
      "cell_type": "markdown",
      "source": [
        "Given the variables:\n",
        "\n",
        "planet = \"Earth\"\n",
        "diameter = 12742\n",
        "\n",
        "Use .format() to print the following string:\n",
        "\n",
        "The diameter of Earth is 12742 kilometers.\n",
        "planet = \"Earth\"\n",
        "diameter = 12742\n"
      ],
      "metadata": {
        "id": "lktwqroBuuWU"
      }
    },
    {
      "cell_type": "code",
      "source": [
        "planet = \"Earth\"\n",
        "diameter = 12742"
      ],
      "metadata": {
        "id": "MBRaXIkSuwNz"
      },
      "execution_count": 70,
      "outputs": []
    },
    {
      "cell_type": "code",
      "source": [
        "\n",
        "print('The diameter of {} is {} kilometers.' .format(planet,diameter));"
      ],
      "metadata": {
        "colab": {
          "base_uri": "https://localhost:8080/"
        },
        "id": "WODQw1M8u1T6",
        "outputId": "c33e49fb-96ea-4946-93ff-b476b9ab7cc5"
      },
      "execution_count": 71,
      "outputs": [
        {
          "output_type": "stream",
          "name": "stdout",
          "text": [
            "The diameter of Earth is 12742 kilometers.\n"
          ]
        }
      ]
    },
    {
      "cell_type": "markdown",
      "source": [],
      "metadata": {
        "id": "Oi2GR2L-u7l9"
      }
    },
    {
      "cell_type": "markdown",
      "source": [
        "Given this nested list, use indexing to grab the word \"hello\""
      ],
      "metadata": {
        "id": "NDmPvSueu_0W"
      }
    },
    {
      "cell_type": "code",
      "source": [
        "lst = [1,2,[3,4],[5,[100,200,['hello']],23,11],1,7]"
      ],
      "metadata": {
        "id": "JIV_DBJ9vAyF"
      },
      "execution_count": 72,
      "outputs": []
    },
    {
      "cell_type": "code",
      "source": [
        "a=lst[3][1][2]\n",
        "print(a)"
      ],
      "metadata": {
        "colab": {
          "base_uri": "https://localhost:8080/"
        },
        "id": "B1nU6aqdvCl0",
        "outputId": "9ab90324-34eb-4e0f-f518-f841527c95a2"
      },
      "execution_count": 73,
      "outputs": [
        {
          "output_type": "stream",
          "name": "stdout",
          "text": [
            "['hello']\n"
          ]
        }
      ]
    },
    {
      "cell_type": "markdown",
      "source": [
        "Given this nest dictionary grab the word \"hello\". Be prepared, this will be annoying/tricky"
      ],
      "metadata": {
        "id": "KntwwrttvHzi"
      }
    },
    {
      "cell_type": "code",
      "source": [
        "d = {'k1':[1,2,3,{'tricky':['oh','man','inception',{'target':[1,2,3,'hello']}]}]}"
      ],
      "metadata": {
        "id": "cevUEjWcvIWI"
      },
      "execution_count": 74,
      "outputs": []
    },
    {
      "cell_type": "code",
      "source": [
        "print(d['k1'][3][\"tricky\"][3]['target'][3])"
      ],
      "metadata": {
        "colab": {
          "base_uri": "https://localhost:8080/"
        },
        "id": "ccjiIO20vK24",
        "outputId": "31244b8f-4edd-4c33-9759-e5365eda2651"
      },
      "execution_count": 75,
      "outputs": [
        {
          "output_type": "stream",
          "name": "stdout",
          "text": [
            "hello\n"
          ]
        }
      ]
    },
    {
      "cell_type": "markdown",
      "source": [],
      "metadata": {
        "id": "YJNK5lwFu6ge"
      }
    },
    {
      "cell_type": "markdown",
      "source": [
        "What is the main difference between a tuple and a list?\n",
        "\n",
        "1.list is mutable but tuples are immutable\n",
        "\n",
        "2.list consumes more memory whereas tuple consumes less memory"
      ],
      "metadata": {
        "id": "M-V9swkdvPG1"
      }
    },
    {
      "cell_type": "code",
      "source": [
        "#To show the difference between list and tuple\n",
        "List = [1, 2, 5, 4, 3, 8, 7, 6, 10]\n",
        "List[3] = 27\n",
        "print(\"List is mutable\", List)"
      ],
      "metadata": {
        "colab": {
          "base_uri": "https://localhost:8080/"
        },
        "id": "fDZWlMeOvP1M",
        "outputId": "df4ca951-ca13-412e-c7f3-567b2f50935f"
      },
      "execution_count": 76,
      "outputs": [
        {
          "output_type": "stream",
          "name": "stdout",
          "text": [
            "List is mutable [1, 2, 5, 27, 3, 8, 7, 6, 10]\n"
          ]
        }
      ]
    },
    {
      "cell_type": "code",
      "source": [
        "tuple1 = (1, 6, 2, 3)\n",
        "#tuple1[0] = 4            #throws error\n",
        "print(tuple1)"
      ],
      "metadata": {
        "colab": {
          "base_uri": "https://localhost:8080/"
        },
        "id": "HQ0m8lxwvWAU",
        "outputId": "dc556f7b-bc34-4216-951c-46ececa96df0"
      },
      "execution_count": 77,
      "outputs": [
        {
          "output_type": "stream",
          "name": "stdout",
          "text": [
            "(1, 6, 2, 3)\n"
          ]
        }
      ]
    },
    {
      "cell_type": "markdown",
      "source": [
        "Create a function that grabs the email website domain from a string in the form:\n",
        "\n",
        "user@domain.com\n",
        "\n",
        "So for example, passing \"user@domain.com\" would return: domain.com"
      ],
      "metadata": {
        "id": "pXaUYOUavY5i"
      }
    },
    {
      "cell_type": "code",
      "source": [],
      "metadata": {
        "id": "Sla3X282vZZF"
      },
      "execution_count": 77,
      "outputs": []
    },
    {
      "cell_type": "code",
      "source": [
        "def domainget(email):\n",
        "  print(\"Your domain is: \"+email.split('@')[-1])\n",
        "email=input(\"Enter your email: \")\n",
        "domainget(email)"
      ],
      "metadata": {
        "colab": {
          "base_uri": "https://localhost:8080/"
        },
        "id": "InVV8232va86",
        "outputId": "049892ee-a7fc-41a9-aca2-628d9afcf5ae"
      },
      "execution_count": 78,
      "outputs": [
        {
          "output_type": "stream",
          "name": "stdout",
          "text": [
            "Enter your email: sushma@gmail.com\n",
            "Your domain is: gmail.com\n"
          ]
        }
      ]
    },
    {
      "cell_type": "markdown",
      "source": [
        "Create a basic function that returns True if the word 'dog' is contained in the input string. Don't worry about edge cases like a punctuation being attached to the word dog, but do account for capitalization."
      ],
      "metadata": {
        "id": "JSP0rOEhvivc"
      }
    },
    {
      "cell_type": "code",
      "source": [],
      "metadata": {
        "id": "garJ1a9uvjq2"
      },
      "execution_count": 78,
      "outputs": []
    },
    {
      "cell_type": "code",
      "source": [
        "def findingdog(dg):\n",
        "  if 'dog' in dg.lower():\n",
        "      print(\"True\")\n",
        "  else:\n",
        "      print(\"False\")\n",
        "#dg=\"Oh my god, I saw a dog there!\" #True\n",
        "dg=\"This is a Dog\"                  #True\n",
        "findingdog(dg)\n",
        "\n"
      ],
      "metadata": {
        "colab": {
          "base_uri": "https://localhost:8080/"
        },
        "id": "6P01nPNWvlgu",
        "outputId": "84ea7487-1b70-40d2-a9e9-7695b2a536d3"
      },
      "execution_count": 79,
      "outputs": [
        {
          "output_type": "stream",
          "name": "stdout",
          "text": [
            "True\n"
          ]
        }
      ]
    },
    {
      "cell_type": "markdown",
      "source": [
        "Create a function that counts the number of times the word \"dog\" occurs in a string. Again ignore edge cases.\n",
        "\n"
      ],
      "metadata": {
        "id": "NbGdedXlv3E_"
      }
    },
    {
      "cell_type": "code",
      "source": [
        "stmt=\"This dog is more affectionate than the other street dog in that street\";\n",
        "def count_no_of_dog(stmt):\n",
        "  count=0;\n",
        "  for word in stmt.lower().split():\n",
        "    if word == 'dog' or word == 'dogs' :\n",
        "      count=count+1;\n",
        "  print(count)\n",
        "count_no_of_dog(stmt)"
      ],
      "metadata": {
        "colab": {
          "base_uri": "https://localhost:8080/"
        },
        "id": "epKhT8OFv3od",
        "outputId": "3cf7c8ea-0d48-4a9b-af8f-5187f3c010d5"
      },
      "execution_count": 80,
      "outputs": [
        {
          "output_type": "stream",
          "name": "stdout",
          "text": [
            "2\n"
          ]
        }
      ]
    },
    {
      "cell_type": "markdown",
      "source": [
        "Problem\n",
        "You are driving a little too fast, and a police officer stops you. Write a function to return one of 3 possible results: \"No ticket\", \"Small ticket\", or \"Big Ticket\". If your speed is 60 or less, the result is \"No Ticket\". If speed is between 61 and 80 inclusive, the result is \"Small Ticket\". If speed is 81 or more, the result is \"Big Ticket\". Unless it is your birthday (encoded as a boolean value in the parameters of the function) -- on your birthday, your speed can be 5 higher in all cases."
      ],
      "metadata": {
        "id": "hH0B_86ev8rR"
      }
    },
    {
      "cell_type": "code",
      "source": [
        "def caught_speeding(speed, is_birthday):\n",
        "    \n",
        "    if is_birthday:\n",
        "        speeding = speed - 5\n",
        "    else:\n",
        "        speeding = speed\n",
        "    \n",
        "    if speeding > 80:\n",
        "        return 'Big Ticket'\n",
        "    elif speeding > 60 and speeding<81:\n",
        "        return 'Small Ticket'\n",
        "    else:\n",
        "        return 'No Ticket'\n",
        "    pass"
      ],
      "metadata": {
        "id": "V5ALbIcIv9K1"
      },
      "execution_count": 81,
      "outputs": []
    },
    {
      "cell_type": "code",
      "source": [
        "caught_speeding(90,True)"
      ],
      "metadata": {
        "colab": {
          "base_uri": "https://localhost:8080/",
          "height": 36
        },
        "id": "aVQ_Gt9ewCzQ",
        "outputId": "2508385b-8213-44ba-8264-eb04ad2a5e26"
      },
      "execution_count": 82,
      "outputs": [
        {
          "output_type": "execute_result",
          "data": {
            "text/plain": [
              "'Big Ticket'"
            ],
            "application/vnd.google.colaboratory.intrinsic+json": {
              "type": "string"
            }
          },
          "metadata": {},
          "execution_count": 82
        }
      ]
    },
    {
      "cell_type": "code",
      "source": [
        "caught_speeding(61,False)"
      ],
      "metadata": {
        "colab": {
          "base_uri": "https://localhost:8080/",
          "height": 36
        },
        "id": "Wq9IxSLDwDkk",
        "outputId": "65caa8ad-1786-424a-8774-46c0b3ea8081"
      },
      "execution_count": 83,
      "outputs": [
        {
          "output_type": "execute_result",
          "data": {
            "text/plain": [
              "'Small Ticket'"
            ],
            "application/vnd.google.colaboratory.intrinsic+json": {
              "type": "string"
            }
          },
          "metadata": {},
          "execution_count": 83
        }
      ]
    },
    {
      "cell_type": "markdown",
      "source": [
        "Create an employee list with basic salary values(at least 5 values for 5 employees) and using a for loop retreive each employee salary and calculate total salary expenditure."
      ],
      "metadata": {
        "id": "UlontbjcwMoB"
      }
    },
    {
      "cell_type": "code",
      "source": [
        "list1=[{'Empname':'Sushma','Basic_salary':'70000'},\n",
        "       {'Empname':'Sharan','Basic_salary':'64000'},\n",
        "       {'Empname':'Shivani','Basic_salary':'30000'},\n",
        "       {'Empname':'Pooja','Basic_salary':'20000'}]\n",
        "#arr=[50000,55000,40000,60000]\n",
        "key,value='Empname','Basic_salary'\n",
        "res=dict()\n",
        "list2=[]\n",
        "for i in list1:\n",
        "  res[i[key]]=i[value]\n",
        "print(\"Basic salary :\"+str(res))\n",
        "arr=[50000,55000,40000,60000]\n",
        "sum=0\n",
        "val=0\n",
        "for v in range(0,len(arr)):\n",
        "  sum=arr[v]/6\n",
        "  val+=arr[v]\n",
        "print(\"Total salary:\",val)\n",
        "print(\"Total Expenditure:\",sum)#Expenditue is calculated by adding total gross wages divided by no. of days worked.\n",
        "#Considering number of days workes as 6"
      ],
      "metadata": {
        "colab": {
          "base_uri": "https://localhost:8080/"
        },
        "id": "uyDFoUxAwNRl",
        "outputId": "2c01c0a7-3ed6-4c7d-9441-a7a7e1a4ffcf"
      },
      "execution_count": 84,
      "outputs": [
        {
          "output_type": "stream",
          "name": "stdout",
          "text": [
            "Basic salary :{'Sushma': '70000', 'Sharan': '64000', 'Shivani': '30000', 'Pooja': '20000'}\n",
            "Total salary: 205000\n",
            "Total Expenditure: 10000.0\n"
          ]
        }
      ]
    },
    {
      "cell_type": "markdown",
      "source": [
        "Create two dictionaries in Python:\n",
        "\n",
        "First one to contain fields as Empid, Empname, Basicpay\n",
        "\n",
        "Second dictionary to contain fields as DeptName, DeptId.\n",
        "\n",
        "Combine both dictionaries."
      ],
      "metadata": {
        "id": "HNmruefgwfEu"
      }
    },
    {
      "cell_type": "code",
      "source": [
        "Dict1={'Empid':'234','Empname':'Sushma','Basicpay':'70000'}\n",
        "Dict2={'DeptName':'testing','DeptId':'76'}\n",
        "Dict3={**Dict1,**Dict2}\n",
        "print(Dict3)"
      ],
      "metadata": {
        "colab": {
          "base_uri": "https://localhost:8080/"
        },
        "id": "GQ6aupl8wfuV",
        "outputId": "5f0b7807-9a96-4e7a-f371-b591b4628b9e"
      },
      "execution_count": 85,
      "outputs": [
        {
          "output_type": "stream",
          "name": "stdout",
          "text": [
            "{'Empid': '234', 'Empname': 'Sushma', 'Basicpay': '70000', 'DeptName': 'testing', 'DeptId': '76'}\n"
          ]
        }
      ]
    }
  ]
}